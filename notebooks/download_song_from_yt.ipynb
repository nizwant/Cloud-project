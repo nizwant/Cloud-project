{
 "cells": [
  {
   "cell_type": "markdown",
   "metadata": {},
   "source": [
    "After research I came to the conclusion that yt-dlp is the best tool to download videos from YouTube. What we are interested is just audio, and the package supports it. The following code tries to download the audio from the video and saves it as a .mp3 file."
   ]
  },
  {
   "cell_type": "code",
   "execution_count": 1,
   "metadata": {},
   "outputs": [],
   "source": [
    "!python3 -m venv ../venv_cloud"
   ]
  },
  {
   "cell_type": "code",
   "execution_count": 2,
   "metadata": {},
   "outputs": [],
   "source": [
    "!source ../venv_cloud/bin/activate"
   ]
  },
  {
   "cell_type": "code",
   "execution_count": 2,
   "metadata": {},
   "outputs": [],
   "source": [
    "# !python3 -m pip install -U \"yt-dlp[default]\""
   ]
  },
  {
   "cell_type": "code",
   "execution_count": 4,
   "metadata": {},
   "outputs": [],
   "source": [
    "# !brew install ffmpeg # macOS\n",
    "# !sudo apt update && sudo apt install ffmpeg # Ubuntu"
   ]
  },
  {
   "cell_type": "code",
   "execution_count": 5,
   "metadata": {},
   "outputs": [
    {
     "name": "stdout",
     "output_type": "stream",
     "text": [
      "[youtube] Extracting URL: https://www.youtube.com/watch?v=4B7KuoiMhzs\n",
      "[youtube] 4B7KuoiMhzs: Downloading webpage\n",
      "[youtube] 4B7KuoiMhzs: Downloading tv client config\n",
      "[youtube] 4B7KuoiMhzs: Downloading player 6b3caec8\n",
      "[youtube] 4B7KuoiMhzs: Downloading tv player API JSON\n",
      "[youtube] 4B7KuoiMhzs: Downloading ios player API JSON\n",
      "[youtube] 4B7KuoiMhzs: Downloading m3u8 information\n",
      "[info] 4B7KuoiMhzs: Downloading 1 format(s): 140\n",
      "[download] ../songs/Gruby kluseczka apple pen.m4a has already been downloaded\n",
      "[download] 100% of  893.19KiB\n",
      "[ExtractAudio] Destination: ../songs/Gruby kluseczka apple pen.wav\n",
      "Deleting original file ../songs/Gruby kluseczka apple pen.m4a (pass -k to keep)\n"
     ]
    }
   ],
   "source": [
    "import yt_dlp\n",
    "\n",
    "URLS = [\"https://www.youtube.com/watch?v=4B7KuoiMhzs\"]\n",
    "\n",
    "ydl_opts = {\n",
    "    \"format\": \"m4a/bestaudio/best\",\n",
    "    \"outtmpl\": \"../songs/%(title)s.%(ext)s\",\n",
    "    \"postprocessors\": [\n",
    "        {  # Extract audio using ffmpeg\n",
    "            \"key\": \"FFmpegExtractAudio\",\n",
    "            \"preferredcodec\": \"wav\",\n",
    "        }\n",
    "    ],\n",
    "}\n",
    "\n",
    "with yt_dlp.YoutubeDL(ydl_opts) as ydl:\n",
    "    error_code = ydl.download(URLS)"
   ]
  },
  {
   "cell_type": "code",
   "execution_count": null,
   "metadata": {},
   "outputs": [],
   "source": []
  }
 ],
 "metadata": {
  "kernelspec": {
   "display_name": "venv_cloud",
   "language": "python",
   "name": "python3"
  },
  "language_info": {
   "codemirror_mode": {
    "name": "ipython",
    "version": 3
   },
   "file_extension": ".py",
   "mimetype": "text/x-python",
   "name": "python",
   "nbconvert_exporter": "python",
   "pygments_lexer": "ipython3",
   "version": "3.12.3"
  }
 },
 "nbformat": 4,
 "nbformat_minor": 2
}
