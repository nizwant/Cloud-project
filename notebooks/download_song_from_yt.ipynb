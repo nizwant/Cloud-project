{
 "cells": [
  {
   "cell_type": "markdown",
   "metadata": {},
   "source": [
    "After research I came to the conclusion that yt-dlp is the best tool to download videos from YouTube. What we are interested is just audio, and the package supports it. The following code tries to download the audio from the video and saves it as a .mp3 file."
   ]
  },
  {
   "cell_type": "code",
   "execution_count": 1,
   "metadata": {},
   "outputs": [],
   "source": [
    "!python3 -m venv ../venv_cloud"
   ]
  },
  {
   "cell_type": "code",
   "execution_count": 2,
   "metadata": {},
   "outputs": [],
   "source": [
    "!source ../venv_cloud/bin/activate"
   ]
  },
  {
   "cell_type": "code",
   "execution_count": 3,
   "metadata": {},
   "outputs": [],
   "source": [
    "# !python3 -m pip install -U \"yt-dlp[default]\""
   ]
  },
  {
   "cell_type": "code",
   "execution_count": 4,
   "metadata": {},
   "outputs": [],
   "source": [
    "# !brew install ffmpeg # macOS\n",
    "# !sudo apt update && sudo apt install ffmpeg # Ubuntu"
   ]
  },
  {
   "cell_type": "code",
   "execution_count": 5,
   "metadata": {},
   "outputs": [
    {
     "name": "stdout",
     "output_type": "stream",
     "text": [
      "[youtube] Extracting URL: https://www.youtube.com/watch?v=4B7KuoiMhzs\n",
      "[youtube] 4B7KuoiMhzs: Downloading webpage\n",
      "[youtube] 4B7KuoiMhzs: Downloading tv client config\n",
      "[youtube] 4B7KuoiMhzs: Downloading player 6b3caec8\n",
      "[youtube] 4B7KuoiMhzs: Downloading tv player API JSON\n",
      "[youtube] 4B7KuoiMhzs: Downloading ios player API JSON\n",
      "[youtube] 4B7KuoiMhzs: Downloading m3u8 information\n",
      "[info] 4B7KuoiMhzs: Downloading 1 format(s): 140\n",
      "[download] Destination: ../songs/Gruby kluseczka apple pen.m4a\n",
      "[download] 100% of  893.19KiB in 00:00:00 at 6.76MiB/s   \n",
      "[FixupM4a] Correcting container of \"../songs/Gruby kluseczka apple pen.m4a\"\n",
      "[ExtractAudio] Destination: ../songs/Gruby kluseczka apple pen.wav\n",
      "Deleting original file ../songs/Gruby kluseczka apple pen.m4a (pass -k to keep)\n"
     ]
    }
   ],
   "source": [
    "import yt_dlp\n",
    "\n",
    "URLS = [\"https://www.youtube.com/watch?v=4B7KuoiMhzs\"]\n",
    "\n",
    "ydl_opts = {\n",
    "    \"format\": \"m4a/bestaudio/best\",\n",
    "    \"outtmpl\": \"../songs/%(title)s.%(ext)s\",\n",
    "    \"postprocessors\": [\n",
    "        {  # Extract audio using ffmpeg\n",
    "            \"key\": \"FFmpegExtractAudio\",\n",
    "            \"preferredcodec\": \"wav\",\n",
    "        }\n",
    "    ],\n",
    "}\n",
    "\n",
    "with yt_dlp.YoutubeDL(ydl_opts) as ydl:\n",
    "    error_code = ydl.download(URLS)"
   ]
  },
  {
   "cell_type": "markdown",
   "metadata": {},
   "source": [
    "It's working\n",
    "\n",
    "Now I will manually specify selected songs and download them"
   ]
  },
  {
   "cell_type": "code",
   "execution_count": 6,
   "metadata": {},
   "outputs": [],
   "source": [
    "songs_dict = {\n",
    "    \"Delicate\": \"https://www.youtube.com/watch?v=tCXGJQYZ9JA\",\n",
    "    \"Mirrorball\": \"https://www.youtube.com/watch?v=KaM1bCuG4xo\",\n",
    "    \"I did something bad\": \"https://www.youtube.com/watch?v=xYLxUJ9v6KU\",\n",
    "    \"Karma\": \"https://www.youtube.com/watch?v=pzVYSfzNQ5Y\",\n",
    "    \"Gangnam Style\": \"https://www.youtube.com/watch?v=9bZkp7q19f0\",\n",
    "}"
   ]
  },
  {
   "cell_type": "code",
   "execution_count": 7,
   "metadata": {},
   "outputs": [
    {
     "data": {
      "text/plain": [
       "['https://www.youtube.com/watch?v=tCXGJQYZ9JA',\n",
       " 'https://www.youtube.com/watch?v=KaM1bCuG4xo',\n",
       " 'https://www.youtube.com/watch?v=xYLxUJ9v6KU',\n",
       " 'https://www.youtube.com/watch?v=pzVYSfzNQ5Y',\n",
       " 'https://www.youtube.com/watch?v=9bZkp7q19f0']"
      ]
     },
     "execution_count": 7,
     "metadata": {},
     "output_type": "execute_result"
    }
   ],
   "source": [
    "list(songs_dict.values())"
   ]
  },
  {
   "cell_type": "code",
   "execution_count": 8,
   "metadata": {},
   "outputs": [
    {
     "name": "stdout",
     "output_type": "stream",
     "text": [
      "[youtube] Extracting URL: https://www.youtube.com/watch?v=tCXGJQYZ9JA\n",
      "[youtube] tCXGJQYZ9JA: Downloading webpage\n",
      "[youtube] tCXGJQYZ9JA: Downloading tv client config\n",
      "[youtube] tCXGJQYZ9JA: Downloading player 6b3caec8\n",
      "[youtube] tCXGJQYZ9JA: Downloading tv player API JSON\n",
      "[youtube] tCXGJQYZ9JA: Downloading ios player API JSON\n",
      "[youtube] tCXGJQYZ9JA: Downloading m3u8 information\n",
      "[info] tCXGJQYZ9JA: Downloading 1 format(s): 140\n",
      "[download] Destination: ../songs/Taylor Swift - Delicate.m4a\n",
      "[download] 100% of    3.63MiB in 00:00:00 at 9.94MiB/s   \n",
      "[FixupM4a] Correcting container of \"../songs/Taylor Swift - Delicate.m4a\"\n",
      "[ExtractAudio] Destination: ../songs/Taylor Swift - Delicate.wav\n",
      "Deleting original file ../songs/Taylor Swift - Delicate.m4a (pass -k to keep)\n",
      "[youtube] Extracting URL: https://www.youtube.com/watch?v=KaM1bCuG4xo\n",
      "[youtube] KaM1bCuG4xo: Downloading webpage\n",
      "[youtube] KaM1bCuG4xo: Downloading tv client config\n",
      "[youtube] KaM1bCuG4xo: Downloading tv player API JSON\n",
      "[youtube] KaM1bCuG4xo: Downloading ios player API JSON\n",
      "[youtube] KaM1bCuG4xo: Downloading m3u8 information\n",
      "[info] KaM1bCuG4xo: Downloading 1 format(s): 140\n",
      "[download] Destination: ../songs/Taylor Swift – mirrorball (Official Lyric Video).m4a\n",
      "[download] 100% of    3.24MiB in 00:00:00 at 9.32MiB/s     \n",
      "[FixupM4a] Correcting container of \"../songs/Taylor Swift – mirrorball (Official Lyric Video).m4a\"\n",
      "[ExtractAudio] Destination: ../songs/Taylor Swift – mirrorball (Official Lyric Video).wav\n",
      "Deleting original file ../songs/Taylor Swift – mirrorball (Official Lyric Video).m4a (pass -k to keep)\n",
      "[youtube] Extracting URL: https://www.youtube.com/watch?v=xYLxUJ9v6KU\n",
      "[youtube] xYLxUJ9v6KU: Downloading webpage\n",
      "[youtube] xYLxUJ9v6KU: Downloading tv client config\n",
      "[youtube] xYLxUJ9v6KU: Downloading tv player API JSON\n",
      "[youtube] xYLxUJ9v6KU: Downloading ios player API JSON\n",
      "[youtube] xYLxUJ9v6KU: Downloading m3u8 information\n",
      "[info] xYLxUJ9v6KU: Downloading 1 format(s): 140\n",
      "[download] Destination: ../songs/I Did Something Bad.m4a\n",
      "[download] 100% of    3.68MiB in 00:00:00 at 22.37MiB/s  \n",
      "[FixupM4a] Correcting container of \"../songs/I Did Something Bad.m4a\"\n",
      "[ExtractAudio] Destination: ../songs/I Did Something Bad.wav\n",
      "Deleting original file ../songs/I Did Something Bad.m4a (pass -k to keep)\n",
      "[youtube] Extracting URL: https://www.youtube.com/watch?v=pzVYSfzNQ5Y\n",
      "[youtube] pzVYSfzNQ5Y: Downloading webpage\n",
      "[youtube] pzVYSfzNQ5Y: Downloading tv client config\n",
      "[youtube] pzVYSfzNQ5Y: Downloading tv player API JSON\n",
      "[youtube] pzVYSfzNQ5Y: Downloading ios player API JSON\n",
      "[youtube] pzVYSfzNQ5Y: Downloading m3u8 information\n",
      "[info] pzVYSfzNQ5Y: Downloading 1 format(s): 140\n",
      "[download] Destination: ../songs/Karma.m4a\n",
      "[download] 100% of    3.16MiB in 00:00:00 at 16.02MiB/s    \n",
      "[FixupM4a] Correcting container of \"../songs/Karma.m4a\"\n",
      "[ExtractAudio] Destination: ../songs/Karma.wav\n",
      "Deleting original file ../songs/Karma.m4a (pass -k to keep)\n",
      "[youtube] Extracting URL: https://www.youtube.com/watch?v=9bZkp7q19f0\n",
      "[youtube] 9bZkp7q19f0: Downloading webpage\n",
      "[youtube] 9bZkp7q19f0: Downloading tv client config\n",
      "[youtube] 9bZkp7q19f0: Downloading tv player API JSON\n",
      "[youtube] 9bZkp7q19f0: Downloading ios player API JSON\n",
      "[youtube] 9bZkp7q19f0: Downloading m3u8 information\n",
      "[info] 9bZkp7q19f0: Downloading 1 format(s): 140\n",
      "[download] Destination: ../songs/PSY - GANGNAM STYLE(강남스타일) M⧸V.m4a\n",
      "[download] 100% of    3.89MiB in 00:00:00 at 13.62MiB/s  \n",
      "[FixupM4a] Correcting container of \"../songs/PSY - GANGNAM STYLE(강남스타일) M⧸V.m4a\"\n",
      "[ExtractAudio] Destination: ../songs/PSY - GANGNAM STYLE(강남스타일) M⧸V.wav\n",
      "Deleting original file ../songs/PSY - GANGNAM STYLE(강남스타일) M⧸V.m4a (pass -k to keep)\n"
     ]
    }
   ],
   "source": [
    "with yt_dlp.YoutubeDL(ydl_opts) as ydl:\n",
    "    error_code = ydl.download(list(songs_dict.values()))"
   ]
  },
  {
   "cell_type": "markdown",
   "metadata": {},
   "source": [
    "Transforming to wav doesn't make any sense since files are in m4a format anyway, and we are not chasing highest quality, we will reduce quality anyway, also **quiet** flag can be used in yt_dlp. "
   ]
  },
  {
   "cell_type": "code",
   "execution_count": 9,
   "metadata": {},
   "outputs": [],
   "source": [
    "ydl_opts = {\n",
    "    \"format\": \"m4a/bestaudio/best\",\n",
    "    \"outtmpl\": \"../songs/%(title)s.%(ext)s\",\n",
    "    \"quiet\": True,\n",
    "    \"postprocessors\": [\n",
    "        {  # Extract audio using ffmpeg\n",
    "            \"key\": \"FFmpegExtractAudio\",\n",
    "            \"preferredcodec\": \"m4a\",\n",
    "        }\n",
    "    ],\n",
    "}"
   ]
  },
  {
   "cell_type": "code",
   "execution_count": 10,
   "metadata": {},
   "outputs": [
    {
     "name": "stdout",
     "output_type": "stream",
     "text": [
      "                                                           \r"
     ]
    }
   ],
   "source": [
    "with yt_dlp.YoutubeDL(ydl_opts) as ydl:\n",
    "    error_code = ydl.download(list(songs_dict.values()))"
   ]
  },
  {
   "cell_type": "markdown",
   "metadata": {},
   "source": [
    "Difference in file size is quite massive 201MB vs 18MB so over 10x decrease. I guess we will stick for now with m4a"
   ]
  },
  {
   "cell_type": "markdown",
   "metadata": {},
   "source": []
  }
 ],
 "metadata": {
  "kernelspec": {
   "display_name": "venv_cloud",
   "language": "python",
   "name": "python3"
  },
  "language_info": {
   "codemirror_mode": {
    "name": "ipython",
    "version": 3
   },
   "file_extension": ".py",
   "mimetype": "text/x-python",
   "name": "python",
   "nbconvert_exporter": "python",
   "pygments_lexer": "ipython3",
   "version": "3.12.3"
  }
 },
 "nbformat": 4,
 "nbformat_minor": 2
}
